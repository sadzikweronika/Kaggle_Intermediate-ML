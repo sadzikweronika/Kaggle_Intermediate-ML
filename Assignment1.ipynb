{
  "nbformat": 4,
  "nbformat_minor": 0,
  "metadata": {
    "colab": {
      "name": "Untitled0.ipynb",
      "provenance": []
    },
    "kernelspec": {
      "name": "python3",
      "display_name": "Python 3"
    }
  },
  "cells": [
    {
      "cell_type": "markdown",
      "metadata": {
        "id": "7FYmbqJD3Y14"
      },
      "source": [
        "# **Programming assignment 1**"
      ]
    },
    {
      "cell_type": "markdown",
      "metadata": {
        "id": "-akwoPHP32BZ"
      },
      "source": [
        "## **Linear regression**\n"
      ]
    },
    {
      "cell_type": "markdown",
      "metadata": {
        "id": "o7xY3p_G4QIz"
      },
      "source": [
        "### **I. Warmup exercise**"
      ]
    },
    {
      "cell_type": "code",
      "metadata": {
        "id": "nMFKEhWf3hD2"
      },
      "source": [
        "import numpy as np"
      ],
      "execution_count": 4,
      "outputs": []
    },
    {
      "cell_type": "code",
      "metadata": {
        "id": "9oH10sII4xHW"
      },
      "source": [
        "def warmup():\n",
        "  return np.eye(5)"
      ],
      "execution_count": 7,
      "outputs": []
    },
    {
      "cell_type": "markdown",
      "metadata": {
        "id": "rBTzlkkh5rr1"
      },
      "source": [
        "### **II. Linear regression with one variable**"
      ]
    },
    {
      "cell_type": "code",
      "metadata": {
        "id": "cRAB433a42GK"
      },
      "source": [
        "import pandas as pd\n",
        "from google.colab import drive"
      ],
      "execution_count": 48,
      "outputs": []
    },
    {
      "cell_type": "code",
      "metadata": {
        "id": "kijxvcBU7Iu2"
      },
      "source": [
        "drive.mount('/MyDrive')"
      ],
      "execution_count": null,
      "outputs": []
    },
    {
      "cell_type": "code",
      "metadata": {
        "id": "Prn1Ijla6Fm0"
      },
      "source": [
        "data = np.loadtxt('/ex1data1.txt', delimiter=',')"
      ],
      "execution_count": 50,
      "outputs": []
    },
    {
      "cell_type": "code",
      "metadata": {
        "id": "w9UObq6z_LXS"
      },
      "source": [
        "X, y = data[:, 0], data[:, 1]\n",
        "m = y.size"
      ],
      "execution_count": 76,
      "outputs": []
    },
    {
      "cell_type": "markdown",
      "metadata": {
        "id": "XgdqByF6DM9r"
      },
      "source": [
        "##### **II.1 Plotting the Data**"
      ]
    },
    {
      "cell_type": "code",
      "metadata": {
        "id": "-m7fB4y6_V2F"
      },
      "source": [
        "import matplotlib.pyplot as plt"
      ],
      "execution_count": 56,
      "outputs": []
    },
    {
      "cell_type": "code",
      "metadata": {
        "colab": {
          "base_uri": "https://localhost:8080/",
          "height": 280
        },
        "id": "tmCJ68WWA2qJ",
        "outputId": "4872f160-2928-4cc7-b61a-64e6dda98eda"
      },
      "source": [
        "plt.plot(X, y, 'x', ms=5, color = 'r')\n",
        "plt.ylabel('Profit in $10,000')\n",
        "plt.xlabel('Population of City in 10,000s')\n",
        "plt.show()"
      ],
      "execution_count": 69,
      "outputs": [
        {
          "output_type": "display_data",
          "data": {
            "image/png": "[encoded data removed]",
            "text/plain": [
              "<Figure size 432x288 with 1 Axes>"
            ]
          },
          "metadata": {
            "tags": [],
            "needs_background": "light"
          }
        }
      ]
    },
    {
      "cell_type": "markdown",
      "metadata": {
        "id": "E6Ap0nruE0kd"
      },
      "source": [
        "##### **II.2 Gradient Descent**"
      ]
    },
    {
      "cell_type": "code",
      "metadata": {
        "id": "VwcNwbDvEFO8"
      },
      "source": [
        "X = np.stack([np.ones(m), X], axis=1)"
      ],
      "execution_count": 77,
      "outputs": []
    },
    {
      "cell_type": "code",
      "metadata": {
        "id": "J2ZsTy8UHgL2"
      },
      "source": [
        "def computecost(X, y, theta):\n",
        "  m = y.size\n",
        "  "
      ],
      "execution_count": null,
      "outputs": []
    }
  ]
}